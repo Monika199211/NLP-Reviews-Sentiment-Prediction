{
 "cells": [
  {
   "cell_type": "code",
   "execution_count": 35,
   "metadata": {},
   "outputs": [],
   "source": [
    "import pandas as pd \n",
    "from sklearn.linear_model import LogisticRegression\n",
    "from sklearn.tree import DecisionTreeClassifier\n",
    "from sklearn.ensemble import GradientBoostingClassifier ,RandomForestClassifier, ExtraTreesClassifier\n",
    "from xgboost import XGBClassifier \n",
    "import matplotlib.pyplot as plt \n",
    "\n",
    "from sklearn import metrics\n",
    "from sklearn.metrics import classification_report, f1_score\n",
    "from sklearn.model_selection import train_test_split, GridSearchCV\n",
    "\n",
    "import nltk\n",
    "#nltk.download('stopwords')\n",
    "#nltk.download('punkt')\n",
    "#nltk.download('wordnet')\n",
    "\n",
    "import unicodedata\n",
    "#from wordcloud import WordCloud\n",
    "from nltk.corpus import stopwords\n",
    "import string \n",
    "from nltk.stem import WordNetLemmatizer\n",
    "import re\n",
    "import copy\n",
    "\n",
    "from sklearn.multiclass import OneVsRestClassifier\n",
    "from sklearn.feature_extraction.text import TfidfVectorizer\n",
    "from sklearn.feature_extraction.text import CountVectorizer\n",
    "from sklearn.naive_bayes import MultinomialNB\n",
    "from sklearn.naive_bayes import GaussianNB\n",
    "from imblearn.over_sampling import SMOTE"
   ]
  },
  {
   "cell_type": "code",
   "execution_count": 11,
   "metadata": {},
   "outputs": [
    {
     "data": {
      "text/html": [
       "<div>\n",
       "<style scoped>\n",
       "    .dataframe tbody tr th:only-of-type {\n",
       "        vertical-align: middle;\n",
       "    }\n",
       "\n",
       "    .dataframe tbody tr th {\n",
       "        vertical-align: top;\n",
       "    }\n",
       "\n",
       "    .dataframe thead th {\n",
       "        text-align: right;\n",
       "    }\n",
       "</style>\n",
       "<table border=\"1\" class=\"dataframe\">\n",
       "  <thead>\n",
       "    <tr style=\"text-align: right;\">\n",
       "      <th></th>\n",
       "      <th>id</th>\n",
       "      <th>text</th>\n",
       "      <th>category</th>\n",
       "    </tr>\n",
       "  </thead>\n",
       "  <tbody>\n",
       "    <tr>\n",
       "      <th>0</th>\n",
       "      <td>3973</td>\n",
       "      <td>1047 6700 4178 2912 183 6700</td>\n",
       "      <td>0</td>\n",
       "    </tr>\n",
       "    <tr>\n",
       "      <th>1</th>\n",
       "      <td>4462</td>\n",
       "      <td>4035 4563 1994 154 5373 4956 6035 4393 4017 40...</td>\n",
       "      <td>1</td>\n",
       "    </tr>\n",
       "    <tr>\n",
       "      <th>2</th>\n",
       "      <td>2889</td>\n",
       "      <td>5035 7685 3139 4407 254 584 6589 8518 3078</td>\n",
       "      <td>0</td>\n",
       "    </tr>\n",
       "    <tr>\n",
       "      <th>3</th>\n",
       "      <td>3457</td>\n",
       "      <td>1047 2540 2578 6700 2242 230 3771 4676 5881 64...</td>\n",
       "      <td>0</td>\n",
       "    </tr>\n",
       "    <tr>\n",
       "      <th>4</th>\n",
       "      <td>1555</td>\n",
       "      <td>7685 5868 237 6794 3078</td>\n",
       "      <td>0</td>\n",
       "    </tr>\n",
       "  </tbody>\n",
       "</table>\n",
       "</div>"
      ],
      "text/plain": [
       "     id                                               text  category\n",
       "0  3973                       1047 6700 4178 2912 183 6700         0\n",
       "1  4462  4035 4563 1994 154 5373 4956 6035 4393 4017 40...         1\n",
       "2  2889         5035 7685 3139 4407 254 584 6589 8518 3078         0\n",
       "3  3457  1047 2540 2578 6700 2242 230 3771 4676 5881 64...         0\n",
       "4  1555                            7685 5868 237 6794 3078         0"
      ]
     },
     "execution_count": 11,
     "metadata": {},
     "output_type": "execute_result"
    }
   ],
   "source": [
    "data=pd.read_csv(\"train.csv\")\n",
    "data.head()"
   ]
  },
  {
   "cell_type": "markdown",
   "metadata": {},
   "source": [
    "#### Check for Class Imbalance"
   ]
  },
  {
   "cell_type": "code",
   "execution_count": 45,
   "metadata": {},
   "outputs": [
    {
     "data": {
      "text/plain": [
       "0    0.966898\n",
       "1    0.033102\n",
       "Name: category, dtype: float64"
      ]
     },
     "execution_count": 45,
     "metadata": {},
     "output_type": "execute_result"
    }
   ],
   "source": [
    "data['category'].value_counts()/len(data)"
   ]
  },
  {
   "cell_type": "code",
   "execution_count": 43,
   "metadata": {},
   "outputs": [
    {
     "name": "stdout",
     "output_type": "stream",
     "text": [
      "Counter({0: 2512, 1: 86})\n"
     ]
    },
    {
     "data": {
      "image/png": "[encoded data removed]",
      "text/plain": [
       "<Figure size 432x288 with 1 Axes>"
      ]
     },
     "metadata": {},
     "output_type": "display_data"
    }
   ],
   "source": [
    "import collections\n",
    "import seaborn as sns\n",
    "counter = collections.Counter(data['category'])\n",
    "print(counter)\n",
    "\n",
    "sns.set(style=\"darkgrid\")\n",
    "ax = sns.countplot(x=\"category\", data=data)"
   ]
  },
  {
   "cell_type": "code",
   "execution_count": 13,
   "metadata": {},
   "outputs": [
    {
     "data": {
      "text/plain": [
       "(2598, 3)"
      ]
     },
     "execution_count": 13,
     "metadata": {},
     "output_type": "execute_result"
    }
   ],
   "source": [
    "data.shape"
   ]
  },
  {
   "cell_type": "code",
   "execution_count": 14,
   "metadata": {},
   "outputs": [
    {
     "data": {
      "text/plain": [
       "id          0\n",
       "text        0\n",
       "category    0\n",
       "dtype: int64"
      ]
     },
     "execution_count": 14,
     "metadata": {},
     "output_type": "execute_result"
    }
   ],
   "source": [
    "data.isnull().sum()"
   ]
  },
  {
   "cell_type": "markdown",
   "metadata": {},
   "source": [
    "from sklearn.naive_bayes import MultinomialNB"
   ]
  },
  {
   "cell_type": "code",
   "execution_count": 15,
   "metadata": {},
   "outputs": [],
   "source": [
    "X=data['text']\n",
    "y=data['category']\n"
   ]
  },
  {
   "cell_type": "code",
   "execution_count": 16,
   "metadata": {},
   "outputs": [],
   "source": [
    "def run_model(dataframe,\n",
    "              target,\n",
    "              vectorizer=TfidfVectorizer(ngram_range=(1, 2), max_df=0.9, min_df=0.02),\n",
    "              model=MultinomialNB()\n",
    "             ):\n",
    "    '''\n",
    "    Performs model training and validate using f1-score\n",
    "    '''\n",
    "    X = dataframe\n",
    "    y = target\n",
    "    vect = vectorizer\n",
    "    \n",
    "    # splitting data into training and validation set\n",
    "    X_train, X_valid, y_train, y_valid = train_test_split(X, y, random_state=0, test_size=0.3)\n",
    "    \n",
    "    # Vectorize\n",
    "    vector = vect.fit(X_train)\n",
    "    X_train_vect = vector.transform(X_train).toarray()\n",
    "    X_valid_vect = vector.transform(X_valid).toarray()\n",
    "    \n",
    "    # Fit and predict\n",
    "    model.fit(X_train_vect, y_train)  \n",
    "    y_pred = model.predict(X_valid_vect)  \n",
    "    \n",
    "    #validation using f1-score\n",
    "    c_report = metrics.classification_report(y_valid, y_pred)\n",
    "    print('classification report: \\n', c_report)\n",
    "    F1_score = f1_score(y_valid, y_pred,average='weighted')\n",
    "    print('F1_score: ',F1_score) \n",
    "    \n",
    "    return F1_score, y_pred"
   ]
  },
  {
   "cell_type": "code",
   "execution_count": 19,
   "metadata": {},
   "outputs": [
    {
     "name": "stderr",
     "output_type": "stream",
     "text": [
      "C:\\Users\\Monika\\anaconda3\\lib\\site-packages\\sklearn\\metrics\\_classification.py:1221: UndefinedMetricWarning: Precision and F-score are ill-defined and being set to 0.0 in labels with no predicted samples. Use `zero_division` parameter to control this behavior.\n",
      "  _warn_prf(average, modifier, msg_start, len(result))\n"
     ]
    },
    {
     "name": "stdout",
     "output_type": "stream",
     "text": [
      "classification report: \n",
      "               precision    recall  f1-score   support\n",
      "\n",
      "           0       0.97      1.00      0.98       755\n",
      "           1       0.00      0.00      0.00        25\n",
      "\n",
      "    accuracy                           0.97       780\n",
      "   macro avg       0.48      0.50      0.49       780\n",
      "weighted avg       0.94      0.97      0.95       780\n",
      "\n",
      "F1_score:  0.952184080848576\n",
      "On Model - \n",
      "MultinomialNB() \n",
      "with Vectorizer - \n",
      "TfidfVectorizer(max_df=0.9, min_df=0.02)\n",
      "================================================================================\n",
      "classification report: \n",
      "               precision    recall  f1-score   support\n",
      "\n",
      "           0       0.99      0.82      0.90       755\n",
      "           1       0.11      0.68      0.19        25\n",
      "\n",
      "    accuracy                           0.82       780\n",
      "   macro avg       0.55      0.75      0.54       780\n",
      "weighted avg       0.96      0.82      0.87       780\n",
      "\n",
      "F1_score:  0.8740211037170484\n",
      "On Model - \n",
      "GaussianNB() \n",
      "with Vectorizer - \n",
      "TfidfVectorizer(max_df=0.9, min_df=0.02)\n",
      "================================================================================\n",
      "classification report: \n",
      "               precision    recall  f1-score   support\n",
      "\n",
      "           0       0.97      1.00      0.98       755\n",
      "           1       1.00      0.04      0.08        25\n",
      "\n",
      "    accuracy                           0.97       780\n",
      "   macro avg       0.98      0.52      0.53       780\n",
      "weighted avg       0.97      0.97      0.96       780\n",
      "\n",
      "F1_score:  0.955270283823087\n",
      "On Model - \n",
      "LogisticRegression() \n",
      "with Vectorizer - \n",
      "TfidfVectorizer(max_df=0.9, min_df=0.02)\n",
      "================================================================================\n",
      "classification report: \n",
      "               precision    recall  f1-score   support\n",
      "\n",
      "           0       0.98      0.98      0.98       755\n",
      "           1       0.45      0.40      0.43        25\n",
      "\n",
      "    accuracy                           0.97       780\n",
      "   macro avg       0.72      0.69      0.70       780\n",
      "weighted avg       0.96      0.97      0.96       780\n",
      "\n",
      "F1_score:  0.9643141870293788\n",
      "On Model - \n",
      "DecisionTreeClassifier() \n",
      "with Vectorizer - \n",
      "TfidfVectorizer(max_df=0.9, min_df=0.02)\n",
      "================================================================================\n",
      "classification report: \n",
      "               precision    recall  f1-score   support\n",
      "\n",
      "           0       0.97      1.00      0.98       755\n",
      "           1       1.00      0.08      0.15        25\n",
      "\n",
      "    accuracy                           0.97       780\n",
      "   macro avg       0.99      0.54      0.57       780\n",
      "weighted avg       0.97      0.97      0.96       780\n",
      "\n",
      "F1_score:  0.9581746682203303\n",
      "On Model - \n",
      "RandomForestClassifier() \n",
      "with Vectorizer - \n",
      "TfidfVectorizer(max_df=0.9, min_df=0.02)\n",
      "================================================================================\n",
      "classification report: \n",
      "               precision    recall  f1-score   support\n",
      "\n",
      "           0       0.99      0.99      0.99       755\n",
      "           1       0.60      0.60      0.60        25\n",
      "\n",
      "    accuracy                           0.97       780\n",
      "   macro avg       0.79      0.79      0.79       780\n",
      "weighted avg       0.97      0.97      0.97       780\n",
      "\n",
      "F1_score:  0.9743589743589743\n",
      "On Model - \n",
      "MultinomialNB() \n",
      "with Vectorizer - \n",
      "CountVectorizer(max_df=0.9, min_df=0.02)\n",
      "================================================================================\n",
      "classification report: \n",
      "               precision    recall  f1-score   support\n",
      "\n",
      "           0       0.99      0.82      0.90       755\n",
      "           1       0.11      0.68      0.19        25\n",
      "\n",
      "    accuracy                           0.82       780\n",
      "   macro avg       0.55      0.75      0.54       780\n",
      "weighted avg       0.96      0.82      0.87       780\n",
      "\n",
      "F1_score:  0.8732136982840245\n",
      "On Model - \n",
      "GaussianNB() \n",
      "with Vectorizer - \n",
      "CountVectorizer(max_df=0.9, min_df=0.02)\n",
      "================================================================================\n",
      "classification report: \n",
      "               precision    recall  f1-score   support\n",
      "\n",
      "           0       0.99      0.99      0.99       755\n",
      "           1       0.61      0.56      0.58        25\n",
      "\n",
      "    accuracy                           0.97       780\n",
      "   macro avg       0.80      0.77      0.79       780\n",
      "weighted avg       0.97      0.97      0.97       780\n",
      "\n",
      "F1_score:  0.9738417446750781\n",
      "On Model - \n",
      "LogisticRegression() \n",
      "with Vectorizer - \n",
      "CountVectorizer(max_df=0.9, min_df=0.02)\n",
      "================================================================================\n",
      "classification report: \n",
      "               precision    recall  f1-score   support\n",
      "\n",
      "           0       0.98      0.97      0.98       755\n",
      "           1       0.32      0.40      0.36        25\n",
      "\n",
      "    accuracy                           0.95       780\n",
      "   macro avg       0.65      0.69      0.67       780\n",
      "weighted avg       0.96      0.95      0.96       780\n",
      "\n",
      "F1_score:  0.9562266191255553\n",
      "On Model - \n",
      "DecisionTreeClassifier() \n",
      "with Vectorizer - \n",
      "CountVectorizer(max_df=0.9, min_df=0.02)\n",
      "================================================================================\n",
      "classification report: \n",
      "               precision    recall  f1-score   support\n",
      "\n",
      "           0       0.97      1.00      0.99       755\n",
      "           1       0.80      0.16      0.27        25\n",
      "\n",
      "    accuracy                           0.97       780\n",
      "   macro avg       0.89      0.58      0.63       780\n",
      "weighted avg       0.97      0.97      0.96       780\n",
      "\n",
      "F1_score:  0.962577509636333\n",
      "On Model - \n",
      "RandomForestClassifier() \n",
      "with Vectorizer - \n",
      "CountVectorizer(max_df=0.9, min_df=0.02)\n",
      "================================================================================\n"
     ]
    }
   ],
   "source": [
    "\n",
    "#from google.colab import files\n",
    "\n",
    "from sklearn import metrics\n",
    "from sklearn.metrics import classification_report, f1_score\n",
    "from sklearn.model_selection import train_test_split, GridSearchCV\n",
    "models = [MultinomialNB, GaussianNB,LogisticRegression,DecisionTreeClassifier, RandomForestClassifier]\n",
    "vectorizers = [TfidfVectorizer, CountVectorizer]\n",
    "for vectorizer in vectorizers:\n",
    "  vectorizer = vectorizer(max_df=0.9, min_df=0.02)\n",
    "  for model in models:\n",
    "      # run model\n",
    "      model = model()\n",
    "      F1_score, y_pred = run_model(X, y, vectorizer = vectorizer, model = OneVsRestClassifier(model)) \n",
    "      print('On Model - \\n'+str(model),'\\nwith Vectorizer - \\n'+str(vectorizer))\n",
    "      print('===='*20)"
   ]
  },
  {
   "cell_type": "code",
   "execution_count": 31,
   "metadata": {},
   "outputs": [
    {
     "name": "stdout",
     "output_type": "stream",
     "text": [
      "classification report: \n",
      "               precision    recall  f1-score   support\n",
      "\n",
      "           0       0.99      0.99      0.99       756\n",
      "           1       0.83      0.83      0.83        24\n",
      "\n",
      "    accuracy                           0.99       780\n",
      "   macro avg       0.91      0.91      0.91       780\n",
      "weighted avg       0.99      0.99      0.99       780\n",
      "\n",
      "F1_score:  0.9897435897435898\n"
     ]
    },
    {
     "data": {
      "text/plain": [
       "(TfidfVectorizer(max_df=0.9, max_features=1000, min_df=0.01),\n",
       " VotingClassifier(estimators=[('rf',\n",
       "                               RandomForestClassifier(class_weight='balanced',\n",
       "                                                      max_depth=8,\n",
       "                                                      n_estimators=200,\n",
       "                                                      n_jobs=-1,\n",
       "                                                      random_state=0)),\n",
       "                              ('nb', MultinomialNB()),\n",
       "                              ('lr',\n",
       "                               LogisticRegression(class_weight='balanced'))],\n",
       "                  voting='soft'))"
      ]
     },
     "execution_count": 31,
     "metadata": {},
     "output_type": "execute_result"
    }
   ],
   "source": [
    "from sklearn.metrics import confusion_matrix\n",
    "from sklearn.ensemble import VotingClassifier\n",
    "\n",
    "\n",
    "def ensemble(dataframe,target):\n",
    "    X = dataframe\n",
    "    y = target\n",
    "    \n",
    "    tfidf_vectorizer = TfidfVectorizer(max_df=0.90, min_df=0.01, max_features=1000)\n",
    "    X_train, X_valid, y_train, y_valid = train_test_split(X, y, test_size=0.3, random_state=42)\n",
    "     \n",
    "    # TF-IDF feature matrix\n",
    "    tfidf_vectorizer.fit(X_train)\n",
    "    X_train_vect = tfidf_vectorizer.transform(X_train).toarray()\n",
    "    X_valid_vect = tfidf_vectorizer.transform(X_valid).toarray()\n",
    "    \n",
    "    \n",
    "    smote = SMOTE(random_state=0)\n",
    "    \n",
    "    X_train_vect_sm, y_train_sm =  smote.fit_sample(X_train_vect, y_train)\n",
    "    #print(\"X_train_vect_sm shape after smote: \",X_train_vect_sm.shape)\n",
    "\n",
    "    \n",
    "   \n",
    "    model1 = RandomForestClassifier(random_state=0, n_jobs=-1, \n",
    "                                    class_weight=\"balanced\", \n",
    "                                    criterion = 'gini',max_depth= 8,\n",
    "                                    max_features = 'auto', n_estimators = 200\n",
    "                                    )\n",
    "    model2 = MultinomialNB()\n",
    "    model3 = LogisticRegression(class_weight=\"balanced\")\n",
    "    \n",
    "    model = VotingClassifier(estimators=[('rf', model1),('nb', model2), ('lr', model3)], voting='soft')\n",
    "    \n",
    "    model.fit(X_train_vect_sm, y_train_sm)\n",
    "    y_pred = model.predict(X_valid_vect) \n",
    "    \n",
    "    #validation using f1-score\n",
    "    c_report = metrics.classification_report(y_valid, y_pred)\n",
    "    print('classification report: \\n', c_report)\n",
    "    F1_score = f1_score(y_valid, y_pred,average='weighted')\n",
    "    print('F1_score: ',F1_score) \n",
    "    \n",
    "    return tfidf_vectorizer, model\n",
    "\n",
    "ensemble(X,y)"
   ]
  },
  {
   "cell_type": "code",
   "execution_count": 32,
   "metadata": {},
   "outputs": [
    {
     "name": "stdout",
     "output_type": "stream",
     "text": [
      "     id                                               text\n",
      "0  1546  5222 7526 427 4829 7526 1164 4768 997 7924 332...\n",
      "1  2956  590 983 5773 8352 1803 237 5045 6300 6267 5773...\n",
      "2  4248       5915 4871 2982 6310 2734 3581 5773 6498 5773\n",
      "3  4403  5435 1994 7248 1944 4017 3567 8618 5018 6619 3...\n",
      "4  2097  6666 230 4768 2684 5773 3656 907 5922 2295 577...\n"
     ]
    }
   ],
   "source": [
    "test=pd.read_csv(\"test.csv\")\n",
    "print(test.head())\n"
   ]
  },
  {
   "cell_type": "code",
   "execution_count": 33,
   "metadata": {},
   "outputs": [
    {
     "name": "stdout",
     "output_type": "stream",
     "text": [
      "     id                                               text\n",
      "0  1546  5222 7526 427 4829 7526 1164 4768 997 7924 332...\n",
      "1  2956  590 983 5773 8352 1803 237 5045 6300 6267 5773...\n",
      "2  4248       5915 4871 2982 6310 2734 3581 5773 6498 5773\n",
      "3  4403  5435 1994 7248 1944 4017 3567 8618 5018 6619 3...\n",
      "4  2097  6666 230 4768 2684 5773 3656 907 5922 2295 577...\n",
      "classification report: \n",
      "               precision    recall  f1-score   support\n",
      "\n",
      "           0       0.99      0.99      0.99       756\n",
      "           1       0.83      0.83      0.83        24\n",
      "\n",
      "    accuracy                           0.99       780\n",
      "   macro avg       0.91      0.91      0.91       780\n",
      "weighted avg       0.99      0.99      0.99       780\n",
      "\n",
      "F1_score:  0.9897435897435898\n"
     ]
    }
   ],
   "source": [
    "print(test.head())\n",
    "final_vectrizer, final_model = ensemble(X, y)\n",
    "X_test_vect = final_vectrizer.transform(test['text']).toarray()\n",
    "\n",
    "final_pred = final_model.predict(X_test_vect)"
   ]
  },
  {
   "cell_type": "code",
   "execution_count": 34,
   "metadata": {},
   "outputs": [
    {
     "name": "stdout",
     "output_type": "stream",
     "text": [
      "(866, 1)\n"
     ]
    }
   ],
   "source": [
    "#Create a  DataFrame with the tweet_id and our prediction regarding sentiment\n",
    "submission = pd.DataFrame({'category':final_pred})\n",
    "print(submission.shape)\n",
    "submission.to_csv('submission_4.csv', index=False)\n"
   ]
  },
  {
   "cell_type": "code",
   "execution_count": null,
   "metadata": {},
   "outputs": [],
   "source": []
  }
 ],
 "metadata": {
  "kernelspec": {
   "display_name": "Python 3",
   "language": "python",
   "name": "python3"
  },
  "language_info": {
   "codemirror_mode": {
    "name": "ipython",
    "version": 3
   },
   "file_extension": ".py",
   "mimetype": "text/x-python",
   "name": "python",
   "nbconvert_exporter": "python",
   "pygments_lexer": "ipython3",
   "version": "3.8.3"
  }
 },
 "nbformat": 4,
 "nbformat_minor": 4
}
